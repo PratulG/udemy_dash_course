{
 "metadata": {
  "language_info": {
   "codemirror_mode": {
    "name": "ipython",
    "version": 3
   },
   "file_extension": ".py",
   "mimetype": "text/x-python",
   "name": "python",
   "nbconvert_exporter": "python",
   "pygments_lexer": "ipython3",
   "version": "3.9.2-final"
  },
  "orig_nbformat": 2,
  "kernelspec": {
   "name": "python3",
   "display_name": "Python 3.9.2 64-bit",
   "metadata": {
    "interpreter": {
     "hash": "4968616242b12205732e0bb9392dd184d3a0818a6aa7d3a096f6e3a74afccf42"
    }
   }
  }
 },
 "nbformat": 4,
 "nbformat_minor": 2,
 "cells": [
  {
   "source": [
    "# Numpy and Pandas exercise\n",
    "\n",
    "1) Import pandas and numpy"
   ],
   "cell_type": "markdown",
   "metadata": {}
  },
  {
   "cell_type": "code",
   "execution_count": 1,
   "metadata": {},
   "outputs": [],
   "source": [
    "import numpy as np\n",
    "import pandas as pd"
   ]
  },
  {
   "source": [
    "2) Set Numpy's random number generator seed to 101\n",
    "\n",
    "and \n",
    "\n",
    "3) Create a NumPy Matrix of 100 rows by 5 columns consisting of random integers from 1-100. (Keep in mind that the upper limit may be exclusive.)"
   ],
   "cell_type": "markdown",
   "metadata": {}
  },
  {
   "cell_type": "code",
   "execution_count": 8,
   "metadata": {},
   "outputs": [
    {
     "output_type": "stream",
     "name": "stdout",
     "text": [
      "[[ 96  12  82  71  64]\n [ 88  76  10  78  41]\n [  5  64  41  61  93]\n [ 65   6  13  94  41]\n [ 50  84   9  30  60]\n [ 35  45  73  20  11]\n [ 77  96  88   1  74]\n [  9  63  37  84 100]\n [ 29  64   8  11  53]\n [ 57  39  74  53  19]]\n"
     ]
    }
   ],
   "source": [
    "np.random.seed(101)\n",
    "mat = np.random.randint(1, 101, (100, 5))\n",
    "print(mat[0:10, :])"
   ]
  },
  {
   "source": [
    "4) Now use `pd.DataFrame()` to read-in this numpy array as a dataframe. Simply pass in the numpy array into that function to get back a dataframe. Pandas will auto label the columns to 0-4."
   ],
   "cell_type": "markdown",
   "metadata": {}
  },
  {
   "cell_type": "code",
   "execution_count": 9,
   "metadata": {},
   "outputs": [
    {
     "output_type": "stream",
     "name": "stdout",
     "text": [
      "    0   1   2   3    4\n0  96  12  82  71   64\n1  88  76  10  78   41\n2   5  64  41  61   93\n3  65   6  13  94   41\n4  50  84   9  30   60\n5  35  45  73  20   11\n6  77  96  88   1   74\n7   9  63  37  84  100\n8  29  64   8  11   53\n9  57  39  74  53   19\n"
     ]
    }
   ],
   "source": [
    "df = pd.DataFrame(mat)\n",
    "print(df.head(n = 10))"
   ]
  },
  {
   "source": [
    "5) Using your previously created DataFrame, use `df.columns = [...]` to rename the pandas columns to be `['f1','f2','f3','f4','label']`. You can read about it in [this SO question](https://stackoverflow.com/questions/11346283/renaming-columns-in-pandas)."
   ],
   "cell_type": "markdown",
   "metadata": {}
  },
  {
   "cell_type": "code",
   "execution_count": 12,
   "metadata": {},
   "outputs": [
    {
     "output_type": "stream",
     "name": "stdout",
     "text": [
      "   f1  f2  f3  f4  label\n0  96  12  82  71     64\n1  88  76  10  78     41\n2   5  64  41  61     93\n3  65   6  13  94     41\n4  50  84   9  30     60\n5  35  45  73  20     11\n6  77  96  88   1     74\n7   9  63  37  84    100\n8  29  64   8  11     53\n9  57  39  74  53     19\n"
     ]
    }
   ],
   "source": [
    "df.columns = [\"f1\", \"f2\", \"f3\", \"f4\", \"label\"]\n",
    "print(df.head(n = 10))"
   ]
  },
  {
   "source": [
    "6) Alright, all the other tasks were hopefully straightforward. This final task will allow you to quickly check to see if you are at the right level with pandas! Do the following:\n",
    "\n",
    "Create a dataframe with the columns `['A','B','C','D']` with each column having 50 rows of random numbers for data. The random numbers should be between 0 and 100. (Hint: Use numpy to create the numbers, then pass it in to `pd.DataFrame()`, check out the `data` and `columns` parameters for that call.)"
   ],
   "cell_type": "markdown",
   "metadata": {}
  },
  {
   "cell_type": "code",
   "execution_count": 13,
   "metadata": {},
   "outputs": [
    {
     "output_type": "stream",
     "name": "stdout",
     "text": [
      "     A   B   C   D\n0   16  96  92  20\n1   70   2  78  64\n2   88  29  71   6\n3    4  13  63  27\n4   97  62  88  75\n5  100  98  65  96\n6    4  89  60  39\n7   30  32  89  58\n8   10  63  32  14\n9   36  48   3  18\n"
     ]
    }
   ],
   "source": [
    "df = pd.DataFrame(\n",
    "    data = np.random.randint(1, 101, (50, 4)),\n",
    "    columns = [\"A\", \"B\", \"C\", \"D\"]\n",
    ")\n",
    "print(df.head(n = 10))"
   ]
  }
 ]
}