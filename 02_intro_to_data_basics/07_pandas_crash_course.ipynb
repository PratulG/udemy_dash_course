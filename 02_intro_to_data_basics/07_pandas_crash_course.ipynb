{
 "metadata": {
  "language_info": {
   "codemirror_mode": {
    "name": "ipython",
    "version": 3
   },
   "file_extension": ".py",
   "mimetype": "text/x-python",
   "name": "python",
   "nbconvert_exporter": "python",
   "pygments_lexer": "ipython3",
   "version": "3.9.2-final"
  },
  "orig_nbformat": 2,
  "kernelspec": {
   "name": "python3",
   "display_name": "Python 3.9.2 64-bit",
   "metadata": {
    "interpreter": {
     "hash": "4968616242b12205732e0bb9392dd184d3a0818a6aa7d3a096f6e3a74afccf42"
    }
   }
  }
 },
 "nbformat": 4,
 "nbformat_minor": 2,
 "cells": [
  {
   "source": [
    "# Pandas\n",
    "\n",
    "Pandas is a Python library built on top of Numpy for working with tabular data (for example, csv)."
   ],
   "cell_type": "markdown",
   "metadata": {}
  },
  {
   "cell_type": "code",
   "execution_count": 1,
   "metadata": {},
   "outputs": [],
   "source": [
    "import pandas as pd"
   ]
  },
  {
   "cell_type": "code",
   "execution_count": 6,
   "metadata": {},
   "outputs": [
    {
     "output_type": "stream",
     "name": "stdout",
     "text": [
      "     Name  Salary  Age\n0    John   50000   34\n1   Sally  120000   45\n2  Alyssa   80000   27\n"
     ]
    }
   ],
   "source": [
    "salaries = pd.read_csv(\"salaries.csv\")\n",
    "print(salaries)"
   ]
  },
  {
   "source": [
    "We can select columns of the data frame with the `[` operator. If we want to select multiple columns, we need to pass them as a list, so we'll end up with double `[[` (just remember that each of those represents a different thing)."
   ],
   "cell_type": "markdown",
   "metadata": {}
  },
  {
   "cell_type": "code",
   "execution_count": 7,
   "metadata": {},
   "outputs": [
    {
     "output_type": "stream",
     "name": "stdout",
     "text": [
      "0     50000\n1    120000\n2     80000\nName: Salary, dtype: int64\n"
     ]
    }
   ],
   "source": [
    "print(salaries[\"Salary\"])"
   ]
  },
  {
   "cell_type": "code",
   "execution_count": 8,
   "metadata": {},
   "outputs": [
    {
     "output_type": "stream",
     "name": "stdout",
     "text": [
      "     Name  Salary\n0    John   50000\n1   Sally  120000\n2  Alyssa   80000\n"
     ]
    }
   ],
   "source": [
    "print(salaries[[\"Name\", \"Salary\"]])"
   ]
  },
  {
   "source": [
    "Pandas comes with multiple methods that can be used on the data frame."
   ],
   "cell_type": "markdown",
   "metadata": {}
  },
  {
   "cell_type": "code",
   "execution_count": 17,
   "metadata": {},
   "outputs": [
    {
     "output_type": "stream",
     "name": "stdout",
     "text": [
      "50000\n120000\n83333.33333333333\n[34 45 27]\n3\n"
     ]
    }
   ],
   "source": [
    "print(salaries[\"Salary\"].min()) # min salary\n",
    "print(salaries[\"Salary\"].max()) # max salary\n",
    "print(salaries[\"Salary\"].mean()) # mean salary\n",
    "print(salaries[\"Age\"].unique()) # unique age values\n",
    "print(salaries[\"Age\"].nunique()) # the number of unique values for age"
   ]
  },
  {
   "source": [
    "Conditional filtering is also avaiable in Pandas"
   ],
   "cell_type": "markdown",
   "metadata": {}
  },
  {
   "cell_type": "code",
   "execution_count": 11,
   "metadata": {},
   "outputs": [
    {
     "output_type": "stream",
     "name": "stdout",
     "text": [
      "     Name  Salary  Age\n0    John   50000   34\n1   Sally  120000   45\n2  Alyssa   80000   27\n"
     ]
    }
   ],
   "source": [
    "print(salaries)"
   ]
  },
  {
   "cell_type": "code",
   "execution_count": 15,
   "metadata": {},
   "outputs": [
    {
     "output_type": "stream",
     "name": "stdout",
     "text": [
      "    Name  Salary  Age\n0   John   50000   34\n1  Sally  120000   45\n"
     ]
    }
   ],
   "source": [
    "print(salaries[salaries[\"Age\"] > 30])"
   ]
  },
  {
   "source": [
    "Pandas objects have attributes"
   ],
   "cell_type": "markdown",
   "metadata": {}
  },
  {
   "cell_type": "code",
   "execution_count": 18,
   "metadata": {},
   "outputs": [
    {
     "output_type": "stream",
     "name": "stdout",
     "text": [
      "Index(['Name', 'Salary', 'Age'], dtype='object')\n"
     ]
    }
   ],
   "source": [
    "print(salaries.columns)"
   ]
  },
  {
   "source": [
    "Other general methods"
   ],
   "cell_type": "markdown",
   "metadata": {}
  },
  {
   "cell_type": "code",
   "execution_count": 19,
   "metadata": {},
   "outputs": [
    {
     "output_type": "stream",
     "name": "stdout",
     "text": [
      "<class 'pandas.core.frame.DataFrame'>\nRangeIndex: 3 entries, 0 to 2\nData columns (total 3 columns):\n #   Column  Non-Null Count  Dtype \n---  ------  --------------  ----- \n 0   Name    3 non-null      object\n 1   Salary  3 non-null      int64 \n 2   Age     3 non-null      int64 \ndtypes: int64(2), object(1)\nmemory usage: 200.0+ bytes\nNone\n"
     ]
    }
   ],
   "source": [
    "print(salaries.info())"
   ]
  },
  {
   "cell_type": "code",
   "execution_count": 20,
   "metadata": {},
   "outputs": [
    {
     "output_type": "stream",
     "name": "stdout",
     "text": [
      "              Salary        Age\ncount       3.000000   3.000000\nmean    83333.333333  35.333333\nstd     35118.845843   9.073772\nmin     50000.000000  27.000000\n25%     65000.000000  30.500000\n50%     80000.000000  34.000000\n75%    100000.000000  39.500000\nmax    120000.000000  45.000000\n"
     ]
    }
   ],
   "source": [
    "print(salaries.describe())"
   ]
  },
  {
   "cell_type": "code",
   "execution_count": 21,
   "metadata": {},
   "outputs": [
    {
     "output_type": "stream",
     "name": "stdout",
     "text": [
      "RangeIndex(start=0, stop=3, step=1)\n"
     ]
    }
   ],
   "source": [
    "print(salaries.index)"
   ]
  },
  {
   "source": [
    "## Numpy and Pandas\n",
    "\n",
    "Generate a dataframe from numpy arrays"
   ],
   "cell_type": "markdown",
   "metadata": {}
  },
  {
   "cell_type": "code",
   "execution_count": 22,
   "metadata": {},
   "outputs": [],
   "source": [
    "import numpy as np"
   ]
  },
  {
   "cell_type": "code",
   "execution_count": 24,
   "metadata": {},
   "outputs": [
    {
     "output_type": "stream",
     "name": "stdout",
     "text": [
      "[[ 0  1  2  3  4  5  6  7  8  9]\n [10 11 12 13 14 15 16 17 18 19]\n [20 21 22 23 24 25 26 27 28 29]\n [30 31 32 33 34 35 36 37 38 39]\n [40 41 42 43 44 45 46 47 48 49]]\n"
     ]
    }
   ],
   "source": [
    "mat = np.arange(0, 50).reshape(5, 10)\n",
    "print(mat)"
   ]
  },
  {
   "source": [
    "If we don't supply column names, they'll be numbered."
   ],
   "cell_type": "markdown",
   "metadata": {}
  },
  {
   "cell_type": "code",
   "execution_count": 25,
   "metadata": {},
   "outputs": [
    {
     "output_type": "stream",
     "name": "stdout",
     "text": [
      "    0   1   2   3   4   5   6   7   8   9\n0   0   1   2   3   4   5   6   7   8   9\n1  10  11  12  13  14  15  16  17  18  19\n2  20  21  22  23  24  25  26  27  28  29\n3  30  31  32  33  34  35  36  37  38  39\n4  40  41  42  43  44  45  46  47  48  49\n"
     ]
    }
   ],
   "source": [
    "df = pd.DataFrame(data = mat)\n",
    "print(df)"
   ]
  },
  {
   "cell_type": "code",
   "execution_count": 26,
   "metadata": {},
   "outputs": [
    {
     "output_type": "stream",
     "name": "stdout",
     "text": [
      "[[0 1]\n [2 3]\n [4 5]\n [6 7]\n [8 9]]\n"
     ]
    }
   ],
   "source": [
    "mat = np.arange(0, 10).reshape(5, 2)\n",
    "print(mat)"
   ]
  },
  {
   "cell_type": "code",
   "execution_count": 27,
   "metadata": {},
   "outputs": [
    {
     "output_type": "stream",
     "name": "stdout",
     "text": [
      "   A  B\n0  0  1\n1  2  3\n2  4  5\n3  6  7\n4  8  9\n"
     ]
    }
   ],
   "source": [
    "df = pd.DataFrame(data = mat, columns=[\"A\", \"B\"])\n",
    "print(df)"
   ]
  }
 ]
}