{
 "metadata": {
  "language_info": {
   "codemirror_mode": {
    "name": "ipython",
    "version": 3
   },
   "file_extension": ".py",
   "mimetype": "text/x-python",
   "name": "python",
   "nbconvert_exporter": "python",
   "pygments_lexer": "ipython3",
   "version": "3.9.2-final"
  },
  "orig_nbformat": 2,
  "kernelspec": {
   "name": "python3",
   "display_name": "Python 3.9.2 64-bit",
   "metadata": {
    "interpreter": {
     "hash": "4968616242b12205732e0bb9392dd184d3a0818a6aa7d3a096f6e3a74afccf42"
    }
   }
  }
 },
 "nbformat": 4,
 "nbformat_minor": 2,
 "cells": [
  {
   "source": [
    "# Numpy crash course\n",
    "\n",
    "Numpy is a cientific library for Python."
   ],
   "cell_type": "markdown",
   "metadata": {}
  },
  {
   "cell_type": "code",
   "execution_count": 1,
   "metadata": {},
   "outputs": [],
   "source": [
    "import numpy as np"
   ]
  },
  {
   "source": [
    "Convert Python list into numpy array."
   ],
   "cell_type": "markdown",
   "metadata": {}
  },
  {
   "cell_type": "code",
   "execution_count": 5,
   "metadata": {},
   "outputs": [
    {
     "output_type": "stream",
     "name": "stdout",
     "text": [
      "[1, 2, 3, 4]\n<class 'list'>\n[1 2 3 4]\n<class 'numpy.ndarray'>\n"
     ]
    }
   ],
   "source": [
    "my_list = [1, 2, 3, 4]\n",
    "print(my_list)\n",
    "print(type(my_list))\n",
    "my_list = np.array(my_list)\n",
    "print(my_list)\n",
    "print(type(my_list))"
   ]
  },
  {
   "source": [
    "We can use the numpy `arange` function (pronunced *a range*)  to create arrays. This function takes two arguments: the start value (included), and the stop value (not included). We can also optionally supply a `step` argument."
   ],
   "cell_type": "markdown",
   "metadata": {}
  },
  {
   "cell_type": "code",
   "execution_count": 7,
   "metadata": {},
   "outputs": [
    {
     "output_type": "stream",
     "name": "stdout",
     "text": [
      "[0 1 2 3 4 5 6 7 8 9]\n<class 'numpy.ndarray'>\n"
     ]
    }
   ],
   "source": [
    "a = np.arange(0, 10)\n",
    "print(a)\n",
    "print(type(a))"
   ]
  },
  {
   "cell_type": "code",
   "execution_count": 8,
   "metadata": {},
   "outputs": [
    {
     "output_type": "stream",
     "name": "stdout",
     "text": [
      "[0 2 4 6 8]\n<class 'numpy.ndarray'>\n"
     ]
    }
   ],
   "source": [
    "a = np.arange(0, 10, 2)\n",
    "print(a)\n",
    "print(type(a))"
   ]
  },
  {
   "source": [
    "We can use this function to create arrays of zeros, or ones. We can also give the array a dimensions property by passing a tuple to the function. Each value is a dimension on the array. So, for example, the tuple `(2, 3)` creates a matrix with 2 rows and 3 columns."
   ],
   "cell_type": "markdown",
   "metadata": {}
  },
  {
   "cell_type": "code",
   "execution_count": 9,
   "metadata": {},
   "outputs": [
    {
     "output_type": "execute_result",
     "data": {
      "text/plain": [
       "array([[0., 0., 0., 0., 0.],\n",
       "       [0., 0., 0., 0., 0.],\n",
       "       [0., 0., 0., 0., 0.],\n",
       "       [0., 0., 0., 0., 0.],\n",
       "       [0., 0., 0., 0., 0.]])"
      ]
     },
     "metadata": {},
     "execution_count": 9
    }
   ],
   "source": [
    "np.zeros((5,5))"
   ]
  },
  {
   "cell_type": "code",
   "execution_count": 11,
   "metadata": {},
   "outputs": [
    {
     "output_type": "execute_result",
     "data": {
      "text/plain": [
       "array([[1., 1., 1., 1., 1., 1.],\n",
       "       [1., 1., 1., 1., 1., 1.]])"
      ]
     },
     "metadata": {},
     "execution_count": 11
    }
   ],
   "source": [
    "np.ones((2,6))"
   ]
  },
  {
   "source": [
    "We can generate random numbers with numpy. For example, to create a random integer we use `np.random.randint(start, end)`. Numpy will return an integer value between zero and one hundred, picked form a uniform distribution."
   ],
   "cell_type": "markdown",
   "metadata": {}
  },
  {
   "cell_type": "code",
   "execution_count": 47,
   "metadata": {},
   "outputs": [
    {
     "output_type": "execute_result",
     "data": {
      "text/plain": [
       "38"
      ]
     },
     "metadata": {},
     "execution_count": 47
    }
   ],
   "source": [
    "np.random.randint(0, 100)"
   ]
  },
  {
   "source": [
    "We can also generate entire arrays by supplying a tuple to the `size` argument."
   ],
   "cell_type": "markdown",
   "metadata": {}
  },
  {
   "cell_type": "code",
   "execution_count": 48,
   "metadata": {},
   "outputs": [
    {
     "output_type": "execute_result",
     "data": {
      "text/plain": [
       "array([[45, 75, 16, 28, 94],\n",
       "       [20, 72, 35,  9, 85],\n",
       "       [ 8, 41,  3, 73, 38],\n",
       "       [43, 33, 15,  3,  1],\n",
       "       [22, 31, 59, 96, 74]])"
      ]
     },
     "metadata": {},
     "execution_count": 48
    }
   ],
   "source": [
    "np.random.randint(0, 100, (5,5))"
   ]
  },
  {
   "source": [
    "We can also use numpy to create linearly spaced arrays. For that we use the `linspace` function with three arguments: the lower bound, the upper bound, and the amount of numbers to be evenly spaced out between the bounds."
   ],
   "cell_type": "markdown",
   "metadata": {}
  },
  {
   "cell_type": "code",
   "execution_count": 53,
   "metadata": {},
   "outputs": [
    {
     "output_type": "stream",
     "name": "stdout",
     "text": [
      "[0.]\n[ 0. 10.]\n[ 0.  5. 10.]\n[ 0.  2.  4.  6.  8. 10.]\n[ 0.  1.  2.  3.  4.  5.  6.  7.  8.  9. 10.]\n[ 0.          0.52631579  1.05263158  1.57894737  2.10526316  2.63157895\n  3.15789474  3.68421053  4.21052632  4.73684211  5.26315789  5.78947368\n  6.31578947  6.84210526  7.36842105  7.89473684  8.42105263  8.94736842\n  9.47368421 10.        ]\n"
     ]
    }
   ],
   "source": [
    "print(np.linspace(0, 10, 1))\n",
    "print(np.linspace(0, 10, 2))\n",
    "print(np.linspace(0, 10, 3))\n",
    "print(np.linspace(0, 10, 6))\n",
    "print(np.linspace(0, 10, 11))\n",
    "print(np.linspace(0, 10, 20))"
   ]
  },
  {
   "source": [
    "## Numpy operations\n",
    "\n",
    "Because computers don't acctually know how to generate random numbers, we can set a seed and make our results reproducible."
   ],
   "cell_type": "markdown",
   "metadata": {}
  },
  {
   "cell_type": "code",
   "execution_count": 77,
   "metadata": {},
   "outputs": [
    {
     "output_type": "execute_result",
     "data": {
      "text/plain": [
       "array([95, 11, 81, 70, 63, 87, 75,  9, 77, 40])"
      ]
     },
     "metadata": {},
     "execution_count": 77
    }
   ],
   "source": [
    "np.random.seed(101)\n",
    "np.random.randint(0, 100, 10)"
   ]
  },
  {
   "source": [
    "Numpy arrays have several methods that we can use"
   ],
   "cell_type": "markdown",
   "metadata": {}
  },
  {
   "cell_type": "code",
   "execution_count": 104,
   "metadata": {},
   "outputs": [
    {
     "output_type": "stream",
     "name": "stdout",
     "text": [
      "7\n86\n50.5\n0\n8\n[[86 17 68 17 18]\n [60 83 82  7 67]]\n"
     ]
    }
   ],
   "source": [
    "arr = np.random.randint(0, 100, 10)\n",
    "print(arr.min()) # min value\n",
    "print(arr.max()) # max value\n",
    "print(arr.mean()) # mean value\n",
    "print(arr.argmax()) # index location of the max value\n",
    "print(arr.argmin()) # index location of the min value\n",
    "print(arr.reshape((2,5))) # reshaping the array"
   ]
  },
  {
   "source": [
    "Numpy supports indexing and slicing of arrays with the `[` operator. The return value will be a 1-dim array, but we can stack the reshape method."
   ],
   "cell_type": "markdown",
   "metadata": {}
  },
  {
   "cell_type": "code",
   "execution_count": 105,
   "metadata": {},
   "outputs": [
    {
     "output_type": "stream",
     "name": "stdout",
     "text": [
      "[[ 0  1  2  3  4  5  6  7  8  9]\n [10 11 12 13 14 15 16 17 18 19]\n [20 21 22 23 24 25 26 27 28 29]\n [30 31 32 33 34 35 36 37 38 39]\n [40 41 42 43 44 45 46 47 48 49]\n [50 51 52 53 54 55 56 57 58 59]\n [60 61 62 63 64 65 66 67 68 69]\n [70 71 72 73 74 75 76 77 78 79]\n [80 81 82 83 84 85 86 87 88 89]\n [90 91 92 93 94 95 96 97 98 99]]\n"
     ]
    }
   ],
   "source": [
    "arr = np.arange(0, 100).reshape(10, 10)\n",
    "print(arr)"
   ]
  },
  {
   "cell_type": "code",
   "execution_count": 109,
   "metadata": {},
   "outputs": [
    {
     "output_type": "stream",
     "name": "stdout",
     "text": [
      "52\n[ 2 12 22 32 42 52 62 72 82 92]\n[[ 2 12]\n [22 32]\n [42 52]\n [62 72]\n [82 92]]\n[50 51 52 53 54 55 56 57 58 59]\n"
     ]
    }
   ],
   "source": [
    "print(arr[5,2]) # single element\n",
    "print(arr[:,2]) # entire column\n",
    "print(arr[:,2].reshape(5,2)) # entire column, reshaped into a matrix\n",
    "print(arr[5,:]) # entire row"
   ]
  },
  {
   "source": [
    "Masking allows us to use conditional filters to select elements. For example, `arr > 50` will return a numpy array of the same dimensions, but where every value is either `True` (if the original value in that cell is greater than 50), or `False` otherwise."
   ],
   "cell_type": "markdown",
   "metadata": {}
  },
  {
   "cell_type": "code",
   "execution_count": 111,
   "metadata": {},
   "outputs": [
    {
     "output_type": "execute_result",
     "data": {
      "text/plain": [
       "array([[False, False, False, False, False, False, False, False, False,\n",
       "        False],\n",
       "       [False, False, False, False, False, False, False, False, False,\n",
       "        False],\n",
       "       [False, False, False, False, False, False, False, False, False,\n",
       "        False],\n",
       "       [False, False, False, False, False, False, False, False, False,\n",
       "        False],\n",
       "       [False, False, False, False, False, False, False, False, False,\n",
       "        False],\n",
       "       [False,  True,  True,  True,  True,  True,  True,  True,  True,\n",
       "         True],\n",
       "       [ True,  True,  True,  True,  True,  True,  True,  True,  True,\n",
       "         True],\n",
       "       [ True,  True,  True,  True,  True,  True,  True,  True,  True,\n",
       "         True],\n",
       "       [ True,  True,  True,  True,  True,  True,  True,  True,  True,\n",
       "         True],\n",
       "       [ True,  True,  True,  True,  True,  True,  True,  True,  True,\n",
       "         True]])"
      ]
     },
     "metadata": {},
     "execution_count": 111
    }
   ],
   "source": [
    "arr > 50"
   ]
  },
  {
   "source": [
    "We can now use this new array object to filter the original matrix."
   ],
   "cell_type": "markdown",
   "metadata": {}
  },
  {
   "cell_type": "code",
   "execution_count": 112,
   "metadata": {},
   "outputs": [
    {
     "output_type": "execute_result",
     "data": {
      "text/plain": [
       "array([51, 52, 53, 54, 55, 56, 57, 58, 59, 60, 61, 62, 63, 64, 65, 66, 67,\n",
       "       68, 69, 70, 71, 72, 73, 74, 75, 76, 77, 78, 79, 80, 81, 82, 83, 84,\n",
       "       85, 86, 87, 88, 89, 90, 91, 92, 93, 94, 95, 96, 97, 98, 99])"
      ]
     },
     "metadata": {},
     "execution_count": 112
    }
   ],
   "source": [
    "arr[arr > 50]"
   ]
  }
 ]
}